{
 "cells": [
  {
   "cell_type": "code",
   "execution_count": 1,
   "metadata": {
    "collapsed": true
   },
   "outputs": [],
   "source": [
    "\n",
    "import matplotlib.pyplot as plt\n",
    "%matplotlib inline\n",
    "import seaborn as sns\n",
    "\n",
    "import numpy as np\n",
    "import pandas as pd\n",
    "import warnings\n",
    "import time\n",
    "import json\n",
    "import random\n",
    "\n",
    "from sklearn.model_selection import train_test_split\n",
    "\n",
    "from sklearn import preprocessing\n",
    "\n",
    "from sklearn.cluster import KMeans\n",
    "from sklearn.decomposition import PCA\n",
    "from mpl_toolkits.mplot3d import Axes3D\n",
    "from sklearn import metrics\n",
    "\n",
    "from itertools import cycle\n",
    "from itertools import combinations\n",
    "\n",
    "from tqdm import tqdm\n",
    "import apr_constants\n",
    "import apr_functions_ul\n",
    "import common_functions"
   ]
  },
  {
   "cell_type": "code",
   "execution_count": 4,
   "outputs": [
    {
     "name": "stdout",
     "output_type": "stream",
     "text": [
      "DATA_PATH:  test_data/Data/\n",
      "SAVE_ROOT:  test_data/notebooks_results/\n"
     ]
    }
   ],
   "source": [
    "Parameters = ['Compared_Genre', 'With_Correlation', 'Inertia', 'Homo', 'Compl', 'V-Meas', 'Ari', 'Ami', 'Silhouette', 'Clusters']\n",
    "k_means_metrics = pd.DataFrame(columns=Parameters)\n",
    "\n",
    "FEATURES_FILE_NAME = '20MFCC_10000_10GEN_GTZAN.csv'\n",
    "MFCCS_FOLDER = '20'\n",
    "\n",
    "DATA_PATH = 'test_data/' + apr_constants.DATA\n",
    "print('DATA_PATH: ', DATA_PATH)\n",
    "\n",
    "SAVE_ROOT = 'test_data/' + apr_constants.ROOT_SAVE_PATH_NOTEBOOKS\n",
    "print('SAVE_ROOT: ', SAVE_ROOT)\n",
    "common_functions.check_create_directory(SAVE_ROOT)\n",
    "\n",
    "SAVING_FILE_NAME = 'K_MEANS_METRICS_'+FEATURES_FILE_NAME\n",
    "\n",
    "FEATURES_FILE_PATH = DATA_PATH+FEATURES_FILE_NAME\n",
    "IMAGE_FILE_NAME = FEATURES_FILE_NAME.replace('.csv', '')\n",
    "\n",
    "CLUSTERS_NUM = 2\n",
    "\n",
    "permutations_to_eval = pd.DataFrame(apr_functions_ul.getPermutation(apr_constants.GENRE_TARGET_NAMES, 2), columns=['Compared_Genre','With_Correlation'])"
   ],
   "metadata": {
    "collapsed": false,
    "pycharm": {
     "name": "#%%\n"
    }
   }
  },
  {
   "cell_type": "code",
   "execution_count": null,
   "outputs": [],
   "source": [
    "for i, row in tqdm(permutations_to_eval.iterrows(), total=len(permutations_to_eval.index)):\n",
    "  start_time = time.time()\n",
    "\n",
    "  Parameters = ['Compared_Genre', 'With_Correlation', 'Inertia', 'Homo', 'Compl', 'V-Meas', 'Ari', 'Ami', 'Silhouette', 'Clusters']\n",
    "  temp_k_means_metrics = pd.DataFrame(columns=Parameters)\n",
    "  With_Correlation = False\n",
    "\n",
    "  original_file = pd.read_csv(FEATURES_FILE_PATH)\n",
    "  df = original_file.copy()\n",
    "\n",
    "  compared_genre = []\n",
    "\n",
    "  new_genre = row.to_list()[0]\n",
    "  corr_info = row.to_list()[1]\n",
    "\n",
    "  compared_genre.append(new_genre[0] + '-' + new_genre[1])\n",
    "\n",
    "  df = df[(df[\"genre\"] == new_genre[0]) | (df[\"genre\"] == new_genre[1])]\n",
    "  normalization = 'min_max'\n",
    "\n",
    "  ord_enc = preprocessing.OrdinalEncoder()\n",
    "  df['genre'] = ord_enc.fit_transform(df[['genre']])\n",
    "\n",
    "  # Split df into x and Y\n",
    "  target_col = 'genre'\n",
    "  X = df.loc[:, df.columns != target_col]\n",
    "  y = df.loc[:, target_col]\n",
    "\n",
    "  x_cols = X.columns\n",
    "  if normalization == 'std':\n",
    "      # NORMALIZE X WITH STANDARD SCALER #\n",
    "      resized_data = preprocessing.StandardScaler()\n",
    "      np_scaled = resized_data.fit_transform(X)\n",
    "  elif normalization == 'min_max':\n",
    "      # NORMALIZE X WITH Min Max SCALER #\n",
    "      resized_data = preprocessing.MinMaxScaler()\n",
    "      np_scaled = resized_data.fit_transform(X)\n",
    "  elif normalization == None:\n",
    "      np_scaled = X\n",
    "\n",
    "  X = pd.DataFrame(np_scaled, columns=x_cols)\n",
    "  y = pd.DataFrame(y).fillna(0).astype(int)\n",
    "\n",
    "  if corr_info:\n",
    "    # Get Correlation Matrix and Plot\n",
    "    apr_functions_ul.getCorrelatedFeatures(X, 0.8, True, False, False, IMAGE_FILE_NAME)\n",
    "    With_Correlation = True\n",
    "\n",
    "  cluster_num = 2\n",
    "  # Get K-means results\n",
    "  labels, y_clust, centroids, k_means = apr_functions_ul.runKmeans(X, CLUSTERS_NUM, save_model=False)\n",
    "\n",
    "  temp_k_means_metrics['Compared_Genre'] = compared_genre\n",
    "  temp_k_means_metrics['With_Correlation'] = With_Correlation\n",
    "  temp_k_means_metrics['Inertia'] = k_means.inertia_\n",
    "  temp_k_means_metrics['Homo'] = metrics.homogeneity_score(y.genre, y_clust)\n",
    "  temp_k_means_metrics['Compl'] = metrics.completeness_score(y.genre, y_clust)\n",
    "  temp_k_means_metrics['V-Meas'] = metrics.v_measure_score(y.genre, y_clust)\n",
    "  temp_k_means_metrics['Ari'] = metrics.adjusted_rand_score(y.genre, y_clust)\n",
    "  temp_k_means_metrics['Ami'] = metrics.adjusted_mutual_info_score(y.genre, y_clust)\n",
    "  temp_k_means_metrics['Silhouette'] = metrics.silhouette_score(X, y_clust, metric='euclidean')\n",
    "  temp_k_means_metrics['Clusters'] = cluster_num\n",
    "\n",
    "  k_means_metrics = k_means_metrics.append(temp_k_means_metrics, ignore_index = True)\n",
    "\n",
    "k_means_metrics.to_csv(SAVE_ROOT+SAVING_FILE_NAME, index=False)\n",
    "executionTime = time.time() - start_time\n",
    "print()\n",
    "print('Save CSV!')\n",
    "print('Execution Time: ', executionTime)"
   ],
   "metadata": {
    "collapsed": false,
    "pycharm": {
     "name": "#%%\n"
    }
   }
  }
 ],
 "metadata": {
  "kernelspec": {
   "display_name": "Python 3",
   "language": "python",
   "name": "python3"
  },
  "language_info": {
   "codemirror_mode": {
    "name": "ipython",
    "version": 2
   },
   "file_extension": ".py",
   "mimetype": "text/x-python",
   "name": "python",
   "nbconvert_exporter": "python",
   "pygments_lexer": "ipython2",
   "version": "2.7.6"
  }
 },
 "nbformat": 4,
 "nbformat_minor": 0
}